{
  "nbformat": 4,
  "nbformat_minor": 0,
  "metadata": {
    "colab": {
      "provenance": [],
      "authorship_tag": "ABX9TyM/Ky+JHnEDYfaapgxbSHhS",
      "include_colab_link": true
    },
    "kernelspec": {
      "name": "python3",
      "display_name": "Python 3"
    },
    "language_info": {
      "name": "python"
    }
  },
  "cells": [
    {
      "cell_type": "markdown",
      "metadata": {
        "id": "view-in-github",
        "colab_type": "text"
      },
      "source": [
        "<a href=\"https://colab.research.google.com/github/sreepuli/DS/blob/main/Assignement_1(ML).ipynb\" target=\"_parent\"><img src=\"https://colab.research.google.com/assets/colab-badge.svg\" alt=\"Open In Colab\"/></a>"
      ]
    },
    {
      "cell_type": "markdown",
      "source": [
        "##Perform Arithmatic Operations On Numpy arrays"
      ],
      "metadata": {
        "id": "f73OL-MmPnqB"
      }
    },
    {
      "cell_type": "code",
      "execution_count": 2,
      "metadata": {
        "id": "Dx0H64Al5Sk_"
      },
      "outputs": [],
      "source": [
        "import numpy as np"
      ]
    },
    {
      "cell_type": "code",
      "source": [
        "a=np.array([[1,2,3],[4,5,6]]),\n",
        "b=np.array([[7,8,9],[10,11,12]])\n",
        "print(\"Addition:\\n \",np.add(a,b))   # output [[[ 8 10 12] [14 16 18]]]\n",
        "print(\"Subtraction:\\n \",np.subtract(a,b))  #output [[[-6 -6 -6] [-6 -6 -6]]]\n",
        "print(\"Multiplication:\\n \",np.multiply(a,b))\n",
        "print(\"Division:\\n  \",np.divide(a,b))\n",
        "print(\"squre root:\\n \",np.sqrt(a))\n",
        "print(\"Exponent:\\n \",np.power(b,a))"
      ],
      "metadata": {
        "colab": {
          "base_uri": "https://localhost:8080/"
        },
        "collapsed": true,
        "id": "PPjwQEeEQBLi",
        "outputId": "ebc8989e-dde6-47dc-c203-cbe7d0300d2a"
      },
      "execution_count": null,
      "outputs": [
        {
          "output_type": "stream",
          "name": "stdout",
          "text": [
            "Addition:\n",
            "  [[[ 8 10 12]\n",
            "  [14 16 18]]]\n",
            "Subtraction:\n",
            "  [[[-6 -6 -6]\n",
            "  [-6 -6 -6]]]\n",
            "Multiplication:\n",
            "  [[[ 7 16 27]\n",
            "  [40 55 72]]]\n",
            "Division:\n",
            "   [[[0.14285714 0.25       0.33333333]\n",
            "  [0.4        0.45454545 0.5       ]]]\n",
            "squre root:\n",
            "  [[[1.         1.41421356 1.73205081]\n",
            "  [2.         2.23606798 2.44948974]]]\n",
            "Exponent:\n",
            "  [[[      7      64     729]\n",
            "  [  10000  161051 2985984]]]\n"
          ]
        }
      ]
    },
    {
      "cell_type": "markdown",
      "source": [
        "##Script to compute the mean and standard Deviation of Numpy Array"
      ],
      "metadata": {
        "id": "IcuzCm0_UUWN"
      }
    },
    {
      "cell_type": "markdown",
      "source": [
        "Mean and standard deviation are built in functions in numpy library these both comes under satistical operators"
      ],
      "metadata": {
        "id": "O5SaWUyvWXt3"
      }
    },
    {
      "cell_type": "code",
      "source": [
        "x=np.array([1,2,3,4,5,6,7])\n",
        "print(\"Mean = \",np.mean(x))\n",
        "print(\"Standar Deviation = \" ,np.std(x))\n"
      ],
      "metadata": {
        "colab": {
          "base_uri": "https://localhost:8080/"
        },
        "collapsed": true,
        "id": "yk728bBaVuvV",
        "outputId": "ee49f2fe-4381-4439-af76-ead500644f4e"
      },
      "execution_count": null,
      "outputs": [
        {
          "output_type": "stream",
          "name": "stdout",
          "text": [
            "Mean =  4.0\n",
            "Standar Deviation =  2.0\n"
          ]
        }
      ]
    },
    {
      "cell_type": "code",
      "source": [
        "#for rank 2 arrays\n",
        "y=np.array([[1,2,3,],[4,5,6]])\n",
        "print(\"Mean  = \",np.mean(y))\n",
        "print(\"Standard Deviation = \",np.std(y))"
      ],
      "metadata": {
        "colab": {
          "base_uri": "https://localhost:8080/"
        },
        "id": "o481r9kQXgxX",
        "outputId": "ad4e5e5d-b1d0-4ce2-dc28-e2a9ceaef718"
      },
      "execution_count": null,
      "outputs": [
        {
          "output_type": "stream",
          "name": "stdout",
          "text": [
            "Mean  =  3.5\n",
            "Standard Deviation =  1.707825127659933\n"
          ]
        }
      ]
    },
    {
      "cell_type": "markdown",
      "source": [
        "** We can use axis word in function to find Mean and standard Deviation along Rows and Coloums**"
      ],
      "metadata": {
        "id": "LiTjbRMUYazF"
      }
    },
    {
      "cell_type": "code",
      "source": [
        "z= np.array([[1, 2, 3], [4, 5, 6]])\n",
        "\n",
        "overall_mean = np.mean(z)           # Mean of all elements\n",
        "mean_along_rows = np.mean(z, axis=1)  # Mean along rows\n",
        "mean_along_columns = np.mean(z, axis=0)  # Mean along columns\n",
        "overall_std = np.std(z)           # Standard deviation of all elements\n",
        "std_along_rows = np.std(z, axis=1)  # Standard deviation along rows\n",
        "std_along_columns = np.std(z, axis=0)  # Standard deviation along columns\n",
        "\n",
        "print(\"Overall Mean:\", overall_mean)         # 3.5\n",
        "print(\"Row-wise Mean:\", mean_along_rows)     # [2. 5.]\n",
        "print(\"Column-wise Mean:\", mean_along_columns)  # [2.5 3.5 4.5]\n",
        "print(\"Overall Standard Deviation:\", overall_std)         # 1.707825127659933\n",
        "print(\"Row-wise Standard Deviation:\", std_along_rows)     # [0.81649658 0.81649658]\n",
        "print(\"Column-wise Standard Deviation:\", std_along_columns)  # [1.5 1.5 1.5]\n",
        "\n"
      ],
      "metadata": {
        "colab": {
          "base_uri": "https://localhost:8080/"
        },
        "collapsed": true,
        "id": "Lis8uGqTYrzH",
        "outputId": "bafb0832-325b-4811-d725-4630e1186ec7"
      },
      "execution_count": null,
      "outputs": [
        {
          "output_type": "stream",
          "name": "stdout",
          "text": [
            "Overall Mean: 3.5\n",
            "Row-wise Mean: [2. 5.]\n",
            "Column-wise Mean: [2.5 3.5 4.5]\n",
            "Overall Standard Deviation: 1.707825127659933\n",
            "Row-wise Standard Deviation: [0.81649658 0.81649658]\n",
            "Column-wise Standard Deviation: [1.5 1.5 1.5]\n"
          ]
        }
      ]
    },
    {
      "cell_type": "markdown",
      "source": [
        "##3.create a Numpy array of integers from 10 t0 50 with step size of 5"
      ],
      "metadata": {
        "id": "XSBc11k7ZpFA"
      }
    },
    {
      "cell_type": "markdown",
      "source": [
        "to create a numpy array of some integers we can use .arange() function\n",
        "np.arange(start,stop,step)."
      ],
      "metadata": {
        "id": "A1rfVF-maocW"
      }
    },
    {
      "cell_type": "code",
      "source": [
        "array=np.arange(10,51,5)\n",
        "print(array)"
      ],
      "metadata": {
        "colab": {
          "base_uri": "https://localhost:8080/"
        },
        "collapsed": true,
        "id": "AYpAQWdhaCAS",
        "outputId": "6ea73393-6893-46b4-e460-3c83829655ac"
      },
      "execution_count": null,
      "outputs": [
        {
          "output_type": "stream",
          "name": "stdout",
          "text": [
            "[10 15 20 25 30 35 40 45 50]\n"
          ]
        }
      ]
    },
    {
      "cell_type": "code",
      "source": [
        "arr=np.arange(10,50,5)\n",
        "print(arr)"
      ],
      "metadata": {
        "colab": {
          "base_uri": "https://localhost:8080/"
        },
        "collapsed": true,
        "id": "bsfhliuUaOPU",
        "outputId": "964c0759-f5b8-47a5-ef38-f3979d2b75b9"
      },
      "execution_count": null,
      "outputs": [
        {
          "output_type": "stream",
          "name": "stdout",
          "text": [
            "[10 15 20 25 30 35 40 45]\n"
          ]
        }
      ]
    },
    {
      "cell_type": "markdown",
      "source": [
        "## 4.Reshape the array in to 2x4 matrix"
      ],
      "metadata": {
        "id": "kz9oxSyMa_hv"
      }
    },
    {
      "cell_type": "markdown",
      "source": [
        "we can reshape the above array by using reshape function"
      ],
      "metadata": {
        "id": "2iRkkR9bbaw5"
      }
    },
    {
      "cell_type": "code",
      "source": [
        "array=np.arange(10,50,5)\n",
        "reshaped_arr=array.reshape(2,4)\n",
        "print(reshaped_arr)"
      ],
      "metadata": {
        "colab": {
          "base_uri": "https://localhost:8080/"
        },
        "id": "cukefmDbbX93",
        "outputId": "f470f44b-54b8-4e90-d1a8-47305ffb177e"
      },
      "execution_count": null,
      "outputs": [
        {
          "output_type": "stream",
          "name": "stdout",
          "text": [
            "[[10 15 20 25]\n",
            " [30 35 40 45]]\n"
          ]
        }
      ]
    },
    {
      "cell_type": "code",
      "source": [
        "reshaped_arr=array.reshape(4,2)\n",
        "print(reshaped_arr)"
      ],
      "metadata": {
        "colab": {
          "base_uri": "https://localhost:8080/"
        },
        "id": "9JmkXRyPcXoZ",
        "outputId": "7ad02bd5-0701-4a89-c3fc-a61ea1c7341b"
      },
      "execution_count": null,
      "outputs": [
        {
          "output_type": "stream",
          "name": "stdout",
          "text": [
            "[[10 15]\n",
            " [20 25]\n",
            " [30 35]\n",
            " [40 45]]\n"
          ]
        }
      ]
    },
    {
      "cell_type": "markdown",
      "source": [
        "##5.Given the array arr = np.array([[1, 2, 3], [4, 5, 6], [7, 8, 9]]):\n",
        "##• Extract the sub-matrix containing the last two rows and first two columns.\n",
        "##• Replace all elements greater than 4 with 0."
      ],
      "metadata": {
        "id": "c9RMJlXfck9k"
      }
    },
    {
      "cell_type": "code",
      "source": [
        "arr=np.array([[1,2,3],[4,5,6],[7,8,9]])\n",
        "#Extract the sub-matrix containing the last two rows and first two columns.\n",
        "print(arr[1:,:2])\n",
        "print(arr[:2,:2])\n",
        "#Replace all elements greater than 4 with 0.\n",
        "arr[arr>4]=0\n",
        "print(\"Repalced array:\\n \", arr)"
      ],
      "metadata": {
        "colab": {
          "base_uri": "https://localhost:8080/"
        },
        "collapsed": true,
        "id": "MWZoZKO9c8Tx",
        "outputId": "2e99b71b-6989-4a51-c24f-bbc7b2da626d"
      },
      "execution_count": null,
      "outputs": [
        {
          "output_type": "stream",
          "name": "stdout",
          "text": [
            "[[4 5]\n",
            " [7 8]]\n",
            "[[1 2]\n",
            " [4 5]]\n",
            "Repalced array:\n",
            "  [[1 2 3]\n",
            " [4 0 0]\n",
            " [0 0 0]]\n"
          ]
        }
      ]
    },
    {
      "cell_type": "code",
      "source": [
        "arr=np.where(arr>4,0,arr)\n",
        "print(arr)"
      ],
      "metadata": {
        "colab": {
          "base_uri": "https://localhost:8080/"
        },
        "id": "gM-qMiNwfqAp",
        "outputId": "fbb684b8-d1c4-4480-d8f2-2ccb0c8aeca2"
      },
      "execution_count": null,
      "outputs": [
        {
          "output_type": "stream",
          "name": "stdout",
          "text": [
            "[[1 2 3]\n",
            " [4 0 0]\n",
            " [0 0 0]]\n"
          ]
        }
      ]
    },
    {
      "cell_type": "markdown",
      "source": [
        "#6.Create two 1D arrays:\n",
        "#• a = np.array([1, 2, 3])\n",
        "#• b = np.array([4, 5, 6])\n",
        "#• Perform element-wise addition, multiplication, and division."
      ],
      "metadata": {
        "id": "ZflomQSygM_I"
      }
    },
    {
      "cell_type": "code",
      "source": [
        "a = np.array([1, 2, 3])\n",
        "b = np.array([4, 5, 6])\n",
        "print(\"Addition :\\n\" ,np.add(a,b))\n",
        "print(\"Multiplication :\\n\",np.multiply(a,b))\n",
        "print(\"Division :\\n\",np.divide(a,b))"
      ],
      "metadata": {
        "colab": {
          "base_uri": "https://localhost:8080/"
        },
        "collapsed": true,
        "id": "TIJ_nS2pgemv",
        "outputId": "625c1e2c-10b9-4d8d-a768-32590b8971df"
      },
      "execution_count": null,
      "outputs": [
        {
          "output_type": "stream",
          "name": "stdout",
          "text": [
            "Addition :\n",
            " [5 7 9]\n",
            "Multiplication :\n",
            " [ 4 10 18]\n",
            "Division :\n",
            " [0.25 0.4  0.5 ]\n"
          ]
        }
      ]
    },
    {
      "cell_type": "markdown",
      "source": [
        "# 7.Create a random NumPy array of size (4, 4). Compute:\n",
        "#• Mean of each column.\n",
        "#• Maximum value of the entire array.\n",
        "# Sum of all elements."
      ],
      "metadata": {
        "id": "XNgsnNJLhJOF"
      }
    },
    {
      "cell_type": "code",
      "source": [
        "arr=np.random.rand(4,4)\n",
        "print(arr)\n",
        "print(\" Mean: \",np.mean(arr,axis=0))\n",
        "print(\"Maximum value of the entire array: \",np.max(arr))\n",
        "print(\"Sum of all elements: \",np.sum(arr))"
      ],
      "metadata": {
        "colab": {
          "base_uri": "https://localhost:8080/"
        },
        "id": "Pvo4aPV2hU47",
        "outputId": "b21d0ac2-64a2-4807-9ed0-552c3953c863"
      },
      "execution_count": null,
      "outputs": [
        {
          "output_type": "stream",
          "name": "stdout",
          "text": [
            "[[0.2655007  0.86907183 0.37966122 0.47126459]\n",
            " [0.37262006 0.95681351 0.2227788  0.97003987]\n",
            " [0.07830546 0.72856955 0.19093977 0.53143999]\n",
            " [0.34644392 0.38012326 0.25104239 0.31884197]]\n",
            " Mean:  [0.26571754 0.73364454 0.26110554 0.57289661]\n",
            "Maximum value of the entire array:  0.97003987394721\n",
            "Sum of all elements:  7.333456893593979\n"
          ]
        }
      ]
    },
    {
      "cell_type": "markdown",
      "source": [
        "# 8.Given the array arr = np.array([1, 2, 3, 4]), add 10 to each element and multiply the result by 2."
      ],
      "metadata": {
        "id": "QGQ3yK8HhxKl"
      }
    },
    {
      "cell_type": "code",
      "source": [
        "array=np.array([1,2,3,4])\n",
        "array += 10\n",
        "print(\"Addition with 10 :\\n \",array)\n",
        "array *= 2\n",
        "print(\"Multiply with 2 :\\n\",array)"
      ],
      "metadata": {
        "colab": {
          "base_uri": "https://localhost:8080/"
        },
        "id": "2PJ-9F5jiQjF",
        "outputId": "9ef8ff86-6bbc-43d0-8be8-ba0da2cb7474"
      },
      "execution_count": null,
      "outputs": [
        {
          "output_type": "stream",
          "name": "stdout",
          "text": [
            "Addition with 10 :\n",
            "  [11 12 13 14]\n",
            "Multiply with 2 :\n",
            " [22 24 26 28]\n"
          ]
        }
      ]
    },
    {
      "cell_type": "markdown",
      "source": [
        "# 9.Perform advanced slicing and indexing on a 3D array.\n",
        "#Create a 3D NumPy array arr of shape (3, 4, 5) with random integers ranging from 1 to 100. Perform the following:\n",
        "#• Extract the second \"layer\" (i.e., the second 2D array) in the first dimension.\n",
        "#• Extract the first two rows and the last three columns from each \"layer.\"\n",
        "#• Replace all elements divisible by 3 with -1."
      ],
      "metadata": {
        "id": "do_y4VQt8WEW"
      }
    },
    {
      "cell_type": "code",
      "source": [],
      "metadata": {
        "id": "CQRsl1ze83pi"
      },
      "execution_count": null,
      "outputs": []
    },
    {
      "cell_type": "code",
      "source": [
        "a=np.random.randint(1,100,(3,4,5))\n",
        "print(a)\n",
        "# Extract the second \"layer\" (i.e., the second 2D array) in the first dimension.\n",
        "print(\"Second Layer :\\n\", a[1])\n",
        "#Extract the first two rows and the last three columns from each \"layer.\"\n",
        "print(\"First two rows and last three coloums:\\n\",a[:,:2,2:])\n",
        "#Replace all elements divisible by 3 with -1.\n",
        "print(\"Repalced array :\\n\",np.where(a%3==0,-1,a))"
      ],
      "metadata": {
        "colab": {
          "base_uri": "https://localhost:8080/"
        },
        "id": "gOMN5NV-8ppq",
        "outputId": "7c981625-c53a-4adf-8656-cee494eb0885"
      },
      "execution_count": 11,
      "outputs": [
        {
          "output_type": "stream",
          "name": "stdout",
          "text": [
            "[[[80 31 84 53 28]\n",
            "  [14 25 47 65  1]\n",
            "  [71 38 35 14 86]\n",
            "  [ 4 15 66 47 94]]\n",
            "\n",
            " [[16 44 18 18  1]\n",
            "  [51  9  1 71  2]\n",
            "  [89 42 73 62  6]\n",
            "  [70 58 33 38 57]]\n",
            "\n",
            " [[89 99 77  8 84]\n",
            "  [34  6 54 87 10]\n",
            "  [24 52 71 10 87]\n",
            "  [ 7  2 49  3 45]]]\n",
            "Second Layer :\n",
            " [[16 44 18 18  1]\n",
            " [51  9  1 71  2]\n",
            " [89 42 73 62  6]\n",
            " [70 58 33 38 57]]\n",
            "First two rows and last three coloums:\n",
            " [[[84 53 28]\n",
            "  [47 65  1]]\n",
            "\n",
            " [[18 18  1]\n",
            "  [ 1 71  2]]\n",
            "\n",
            " [[77  8 84]\n",
            "  [54 87 10]]]\n",
            "Repalced array :\n",
            " [[[80 31 -1 53 28]\n",
            "  [14 25 47 65  1]\n",
            "  [71 38 35 14 86]\n",
            "  [ 4 -1 -1 47 94]]\n",
            "\n",
            " [[16 44 -1 -1  1]\n",
            "  [-1 -1  1 71  2]\n",
            "  [89 -1 73 62 -1]\n",
            "  [70 58 -1 38 -1]]\n",
            "\n",
            " [[89 -1 77  8 -1]\n",
            "  [34 -1 -1 -1 10]\n",
            "  [-1 52 71 10 -1]\n",
            "  [ 7  2 49 -1 -1]]]\n"
          ]
        }
      ]
    },
    {
      "cell_type": "markdown",
      "source": [
        "# 10. Work with broadcasting and advanced operations in NumPy.\n",
        "#Create a NumPy array arr of shape (3, 3) with random integers between  \n",
        "#1 and 20. Perform the following:\n",
        "#• Subtract the mean of each row from its respective elements (row-wise\n",
        "#normalization).\n",
        "#• Create a new array by squaring all the elements in arr.\n",
        "#• Find the indices of the top 3 maximum values in the entire array."
      ],
      "metadata": {
        "id": "xscfJVH5_6ED"
      }
    },
    {
      "cell_type": "code",
      "source": [
        "arr = np.random.randint(1, 21, size=(3, 3))\n",
        "print(\"Original Array:\")\n",
        "print(arr)\n",
        "flattened_arr = arr.ravel()\n",
        "# Get the indices of the elements sorted in ascending order\n",
        "sorted_indices = np.argsort(flattened_arr)\n",
        "# Select the top 3 indices (top 3 maximum values are at the end of the sorted indices)\n",
        "top_3_indices_flattened = sorted_indices[-3:]\n",
        "#Convert the flattened indices back to 2D indices\n",
        "top_3_indices = np.unravel_index(top_3_indices_flattened, arr.shape)\n",
        "print(\"\\nIndices of the Top 3 Maximum Values:\")\n",
        "print(top_3_indices)\n"
      ],
      "metadata": {
        "colab": {
          "base_uri": "https://localhost:8080/"
        },
        "id": "fO2P8YPsAME4",
        "outputId": "296bb4c1-ba51-4ef5-a1de-24bf38109847"
      },
      "execution_count": 12,
      "outputs": [
        {
          "output_type": "stream",
          "name": "stdout",
          "text": [
            "Original Array:\n",
            "[[ 3 20 17]\n",
            " [12  8 12]\n",
            " [ 5 10 19]]\n",
            "\n",
            "Indices of the Top 3 Maximum Values:\n",
            "(array([0, 2, 0]), array([2, 2, 1]))\n"
          ]
        }
      ]
    }
  ]
}